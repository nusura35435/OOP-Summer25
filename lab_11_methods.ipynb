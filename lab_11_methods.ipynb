{
 "cells": [
  {
   "cell_type": "code",
   "execution_count": null,
   "id": "da71cc61",
   "metadata": {},
   "outputs": [],
   "source": [
    "class Student:\n",
    "    def __init__(self):\n",
    "        print(\"Hello\")"
   ]
  },
  {
   "cell_type": "code",
   "execution_count": 32,
   "id": "a79292b6",
   "metadata": {},
   "outputs": [
    {
     "name": "stdout",
     "output_type": "stream",
     "text": [
      "Hello from the constructor\n"
     ]
    }
   ],
   "source": [
    "student1 = Student()"
   ]
  },
  {
   "cell_type": "code",
   "execution_count": 29,
   "id": "2ba4f793",
   "metadata": {},
   "outputs": [],
   "source": [
    "class Student:\n",
    "    def __init__(self):\n",
    "        print('Hello from the constructor')\n",
    "    def tell_me_something(self):\n",
    "        print('Hello, i am nusura my index number is 35435')"
   ]
  },
  {
   "cell_type": "code",
   "execution_count": 30,
   "id": "e2dba5ee",
   "metadata": {},
   "outputs": [
    {
     "name": "stdout",
     "output_type": "stream",
     "text": [
      "Hello from the constructor\n",
      "Hello, i am nusura my index number is 35435\n"
     ]
    }
   ],
   "source": [
    "student1 = Student()\n",
    "student1.tell_me_something()"
   ]
  }
 ],
 "metadata": {
  "kernelspec": {
   "display_name": "Python 3",
   "language": "python",
   "name": "python3"
  },
  "language_info": {
   "codemirror_mode": {
    "name": "ipython",
    "version": 3
   },
   "file_extension": ".py",
   "mimetype": "text/x-python",
   "name": "python",
   "nbconvert_exporter": "python",
   "pygments_lexer": "ipython3",
   "version": "3.12.1"
  }
 },
 "nbformat": 4,
 "nbformat_minor": 5
}
