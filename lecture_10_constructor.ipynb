{
 "cells": [
  {
   "cell_type": "markdown",
   "id": "1f932a19",
   "metadata": {},
   "source": [
    "# class with attributes "
   ]
  },
  {
   "cell_type": "code",
   "execution_count": 1,
   "id": "81c22f1b",
   "metadata": {},
   "outputs": [],
   "source": [
    "class Bike:\n",
    " def __init__(self,color,bike_type):\n",
    "  self.color = color \n",
    "  self.bike_type = bike_type"
   ]
  },
  {
   "cell_type": "code",
   "execution_count": 2,
   "id": "97b4e460",
   "metadata": {},
   "outputs": [],
   "source": [
    "bike1= Bike(\"red\",\"mtb\")"
   ]
  },
  {
   "cell_type": "code",
   "execution_count": 3,
   "id": "1023acff",
   "metadata": {},
   "outputs": [
    {
     "data": {
      "text/plain": [
       "'red'"
      ]
     },
     "execution_count": 3,
     "metadata": {},
     "output_type": "execute_result"
    }
   ],
   "source": [
    "bike1.color"
   ]
  },
  {
   "cell_type": "code",
   "execution_count": 4,
   "id": "c07b7ff2",
   "metadata": {},
   "outputs": [
    {
     "data": {
      "text/plain": [
       "'mtb'"
      ]
     },
     "execution_count": 4,
     "metadata": {},
     "output_type": "execute_result"
    }
   ],
   "source": [
    "bike1.bike_type"
   ]
  }
 ],
 "metadata": {
  "kernelspec": {
   "display_name": "Python 3",
   "language": "python",
   "name": "python3"
  },
  "language_info": {
   "codemirror_mode": {
    "name": "ipython",
    "version": 3
   },
   "file_extension": ".py",
   "mimetype": "text/x-python",
   "name": "python",
   "nbconvert_exporter": "python",
   "pygments_lexer": "ipython3",
   "version": "3.12.1"
  }
 },
 "nbformat": 4,
 "nbformat_minor": 5
}
