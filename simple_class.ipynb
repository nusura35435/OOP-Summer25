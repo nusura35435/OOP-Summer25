{
 "cells": [
  {
   "cell_type": "markdown",
   "id": "817bb3bc",
   "metadata": {},
   "source": [
    "# simple class ever "
   ]
  },
  {
   "cell_type": "code",
   "execution_count": 5,
   "id": "89f20938",
   "metadata": {},
   "outputs": [],
   "source": [
    "class MyAfrica:\n",
    "    pass\n"
   ]
  },
  {
   "cell_type": "markdown",
   "id": "a75d955d",
   "metadata": {},
   "source": [
    "# what can we do with such class?"
   ]
  },
  {
   "cell_type": "code",
   "execution_count": 6,
   "id": "7c95b7c9",
   "metadata": {},
   "outputs": [
    {
     "data": {
      "text/plain": [
       "<__main__.MyAfrica at 0x7b4350398bf0>"
      ]
     },
     "execution_count": 6,
     "metadata": {},
     "output_type": "execute_result"
    }
   ],
   "source": [
    "MyAfrica()#that creates an object "
   ]
  },
  {
   "cell_type": "code",
   "execution_count": 7,
   "id": "578651b4",
   "metadata": {},
   "outputs": [],
   "source": [
    "my_africa_1 = MyAfrica()"
   ]
  },
  {
   "cell_type": "code",
   "execution_count": 8,
   "id": "eea07b3a",
   "metadata": {},
   "outputs": [
    {
     "name": "stdout",
     "output_type": "stream",
     "text": [
      "<__main__.MyAfrica object at 0x7b4351137590>\n"
     ]
    }
   ],
   "source": [
    "print(my_africa_1)"
   ]
  },
  {
   "cell_type": "code",
   "execution_count": 9,
   "id": "c10c0d29",
   "metadata": {},
   "outputs": [],
   "source": [
    "my_africa_2 = MyAfrica()\n",
    "my_africa_3 = MyAfrica()\n",
    "my_africa_4 = MyAfrica()"
   ]
  },
  {
   "cell_type": "code",
   "execution_count": 10,
   "id": "82851e14",
   "metadata": {},
   "outputs": [
    {
     "name": "stdout",
     "output_type": "stream",
     "text": [
      "<__main__.MyAfrica object at 0x7b4351137590>\n",
      "<__main__.MyAfrica object at 0x7b43503996a0>\n",
      "<__main__.MyAfrica object at 0x7b4350398950>\n",
      "<__main__.MyAfrica object at 0x7b4350398290>\n"
     ]
    }
   ],
   "source": [
    "print(my_africa_1)\n",
    "print(my_africa_2)\n",
    "print(my_africa_3)\n",
    "print(my_africa_4)"
   ]
  },
  {
   "cell_type": "code",
   "execution_count": 11,
   "id": "08a7a02b",
   "metadata": {},
   "outputs": [
    {
     "name": "stdout",
     "output_type": "stream",
     "text": [
      "<class '__main__.MyAfrica'>\n",
      "<class '__main__.MyAfrica'>\n",
      "<class '__main__.MyAfrica'>\n",
      "<class '__main__.MyAfrica'>\n"
     ]
    }
   ],
   "source": [
    "print(type(my_africa_1))\n",
    "print(type(my_africa_2))\n",
    "print(type(my_africa_3))\n",
    "print(type(my_africa_4))"
   ]
  }
 ],
 "metadata": {
  "kernelspec": {
   "display_name": "Python 3",
   "language": "python",
   "name": "python3"
  },
  "language_info": {
   "codemirror_mode": {
    "name": "ipython",
    "version": 3
   },
   "file_extension": ".py",
   "mimetype": "text/x-python",
   "name": "python",
   "nbconvert_exporter": "python",
   "pygments_lexer": "ipython3",
   "version": "3.12.1"
  }
 },
 "nbformat": 4,
 "nbformat_minor": 5
}
